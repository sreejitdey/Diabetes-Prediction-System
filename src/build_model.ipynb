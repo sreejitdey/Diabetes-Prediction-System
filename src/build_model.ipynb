{
 "cells": [
  {
   "cell_type": "markdown",
   "metadata": {},
   "source": [
    "# BUILDING THE TRAINED MODEL"
   ]
  },
  {
   "cell_type": "markdown",
   "metadata": {},
   "source": [
    "DATA PREPROCESSING"
   ]
  },
  {
   "cell_type": "code",
   "execution_count": 1,
   "metadata": {},
   "outputs": [],
   "source": [
    "import pandas as pd"
   ]
  },
  {
   "cell_type": "code",
   "execution_count": 2,
   "metadata": {},
   "outputs": [],
   "source": [
    "dataset = pd.read_csv('../dataset/train_dataset.csv', index_col = 0)"
   ]
  },
  {
   "cell_type": "code",
   "execution_count": 3,
   "metadata": {},
   "outputs": [
    {
     "data": {
      "text/html": [
       "<div>\n",
       "<style scoped>\n",
       "    .dataframe tbody tr th:only-of-type {\n",
       "        vertical-align: middle;\n",
       "    }\n",
       "\n",
       "    .dataframe tbody tr th {\n",
       "        vertical-align: top;\n",
       "    }\n",
       "\n",
       "    .dataframe thead th {\n",
       "        text-align: right;\n",
       "    }\n",
       "</style>\n",
       "<table border=\"1\" class=\"dataframe\">\n",
       "  <thead>\n",
       "    <tr style=\"text-align: right;\">\n",
       "      <th></th>\n",
       "      <th>Age</th>\n",
       "      <th>Gender</th>\n",
       "      <th>Polyuria</th>\n",
       "      <th>Polydipsia</th>\n",
       "      <th>Sudden weight loss</th>\n",
       "      <th>Weakness</th>\n",
       "      <th>Polyphagia</th>\n",
       "      <th>Genital thrush</th>\n",
       "      <th>Visual blurring</th>\n",
       "      <th>Itching</th>\n",
       "      <th>Irritability</th>\n",
       "      <th>Delayed healing</th>\n",
       "      <th>Partial paresis</th>\n",
       "      <th>Muscle stiffness</th>\n",
       "      <th>Alopecia</th>\n",
       "      <th>Obesity</th>\n",
       "      <th>Class</th>\n",
       "    </tr>\n",
       "  </thead>\n",
       "  <tbody>\n",
       "    <tr>\n",
       "      <th>0</th>\n",
       "      <td>40</td>\n",
       "      <td>1</td>\n",
       "      <td>0</td>\n",
       "      <td>1</td>\n",
       "      <td>0</td>\n",
       "      <td>1</td>\n",
       "      <td>0</td>\n",
       "      <td>0</td>\n",
       "      <td>0</td>\n",
       "      <td>1</td>\n",
       "      <td>0</td>\n",
       "      <td>1</td>\n",
       "      <td>0</td>\n",
       "      <td>1</td>\n",
       "      <td>1</td>\n",
       "      <td>1</td>\n",
       "      <td>1</td>\n",
       "    </tr>\n",
       "    <tr>\n",
       "      <th>1</th>\n",
       "      <td>58</td>\n",
       "      <td>1</td>\n",
       "      <td>0</td>\n",
       "      <td>0</td>\n",
       "      <td>0</td>\n",
       "      <td>1</td>\n",
       "      <td>0</td>\n",
       "      <td>0</td>\n",
       "      <td>1</td>\n",
       "      <td>0</td>\n",
       "      <td>0</td>\n",
       "      <td>0</td>\n",
       "      <td>1</td>\n",
       "      <td>0</td>\n",
       "      <td>1</td>\n",
       "      <td>0</td>\n",
       "      <td>1</td>\n",
       "    </tr>\n",
       "    <tr>\n",
       "      <th>2</th>\n",
       "      <td>41</td>\n",
       "      <td>1</td>\n",
       "      <td>1</td>\n",
       "      <td>0</td>\n",
       "      <td>0</td>\n",
       "      <td>1</td>\n",
       "      <td>1</td>\n",
       "      <td>0</td>\n",
       "      <td>0</td>\n",
       "      <td>1</td>\n",
       "      <td>0</td>\n",
       "      <td>1</td>\n",
       "      <td>0</td>\n",
       "      <td>1</td>\n",
       "      <td>1</td>\n",
       "      <td>0</td>\n",
       "      <td>1</td>\n",
       "    </tr>\n",
       "    <tr>\n",
       "      <th>3</th>\n",
       "      <td>45</td>\n",
       "      <td>1</td>\n",
       "      <td>0</td>\n",
       "      <td>0</td>\n",
       "      <td>1</td>\n",
       "      <td>1</td>\n",
       "      <td>1</td>\n",
       "      <td>1</td>\n",
       "      <td>0</td>\n",
       "      <td>1</td>\n",
       "      <td>0</td>\n",
       "      <td>1</td>\n",
       "      <td>0</td>\n",
       "      <td>0</td>\n",
       "      <td>0</td>\n",
       "      <td>0</td>\n",
       "      <td>1</td>\n",
       "    </tr>\n",
       "    <tr>\n",
       "      <th>4</th>\n",
       "      <td>60</td>\n",
       "      <td>1</td>\n",
       "      <td>1</td>\n",
       "      <td>1</td>\n",
       "      <td>1</td>\n",
       "      <td>1</td>\n",
       "      <td>1</td>\n",
       "      <td>0</td>\n",
       "      <td>1</td>\n",
       "      <td>1</td>\n",
       "      <td>1</td>\n",
       "      <td>1</td>\n",
       "      <td>1</td>\n",
       "      <td>1</td>\n",
       "      <td>1</td>\n",
       "      <td>1</td>\n",
       "      <td>1</td>\n",
       "    </tr>\n",
       "  </tbody>\n",
       "</table>\n",
       "</div>"
      ],
      "text/plain": [
       "   Age  Gender  Polyuria  Polydipsia  Sudden weight loss  Weakness  \\\n",
       "0   40       1         0           1                   0         1   \n",
       "1   58       1         0           0                   0         1   \n",
       "2   41       1         1           0                   0         1   \n",
       "3   45       1         0           0                   1         1   \n",
       "4   60       1         1           1                   1         1   \n",
       "\n",
       "   Polyphagia  Genital thrush  Visual blurring  Itching  Irritability  \\\n",
       "0           0               0                0        1             0   \n",
       "1           0               0                1        0             0   \n",
       "2           1               0                0        1             0   \n",
       "3           1               1                0        1             0   \n",
       "4           1               0                1        1             1   \n",
       "\n",
       "   Delayed healing  Partial paresis  Muscle stiffness  Alopecia  Obesity  \\\n",
       "0                1                0                 1         1        1   \n",
       "1                0                1                 0         1        0   \n",
       "2                1                0                 1         1        0   \n",
       "3                1                0                 0         0        0   \n",
       "4                1                1                 1         1        1   \n",
       "\n",
       "   Class  \n",
       "0      1  \n",
       "1      1  \n",
       "2      1  \n",
       "3      1  \n",
       "4      1  "
      ]
     },
     "execution_count": 3,
     "metadata": {},
     "output_type": "execute_result"
    }
   ],
   "source": [
    "dataset.head()"
   ]
  },
  {
   "cell_type": "code",
   "execution_count": 4,
   "metadata": {},
   "outputs": [],
   "source": [
    "import numpy as np"
   ]
  },
  {
   "cell_type": "code",
   "execution_count": 5,
   "metadata": {},
   "outputs": [],
   "source": [
    "x = dataset.iloc[ : , : 16].values\n",
    "y = dataset.iloc[ : , 16].values"
   ]
  },
  {
   "cell_type": "code",
   "execution_count": 6,
   "metadata": {},
   "outputs": [],
   "source": [
    "from sklearn.model_selection import train_test_split"
   ]
  },
  {
   "cell_type": "code",
   "execution_count": 7,
   "metadata": {},
   "outputs": [],
   "source": [
    "x_train, x_test, y_train, y_test = train_test_split(x, y, test_size = 0.15, random_state = 0)"
   ]
  },
  {
   "cell_type": "code",
   "execution_count": 8,
   "metadata": {},
   "outputs": [
    {
     "data": {
      "text/plain": [
       "(544, 16)"
      ]
     },
     "execution_count": 8,
     "metadata": {},
     "output_type": "execute_result"
    }
   ],
   "source": [
    "x_train.shape"
   ]
  },
  {
   "cell_type": "code",
   "execution_count": 9,
   "metadata": {},
   "outputs": [
    {
     "data": {
      "text/plain": [
       "(96, 16)"
      ]
     },
     "execution_count": 9,
     "metadata": {},
     "output_type": "execute_result"
    }
   ],
   "source": [
    "x_test.shape"
   ]
  },
  {
   "cell_type": "code",
   "execution_count": 10,
   "metadata": {},
   "outputs": [],
   "source": [
    "class_1 = np.count_nonzero(y_train == 1)\n",
    "class_0 = np.count_nonzero(y_train == 0)"
   ]
  },
  {
   "cell_type": "code",
   "execution_count": 11,
   "metadata": {
    "scrolled": true
   },
   "outputs": [
    {
     "name": "stdout",
     "output_type": "stream",
     "text": [
      "Positive outcomes in training data = 271\n",
      "Negative outcomes in training data = 273\n"
     ]
    }
   ],
   "source": [
    "print('Positive outcomes in training data =', class_1)\n",
    "print('Negative outcomes in training data =', class_0)"
   ]
  },
  {
   "cell_type": "code",
   "execution_count": 12,
   "metadata": {},
   "outputs": [],
   "source": [
    "from sklearn.preprocessing import StandardScaler\n",
    "scaler = StandardScaler()"
   ]
  },
  {
   "cell_type": "code",
   "execution_count": 13,
   "metadata": {},
   "outputs": [],
   "source": [
    "x_train = scaler.fit_transform(x_train)\n",
    "x_test = scaler.transform(x_test)"
   ]
  },
  {
   "cell_type": "code",
   "execution_count": 14,
   "metadata": {
    "scrolled": true
   },
   "outputs": [
    {
     "data": {
      "text/plain": [
       "array([[-0.60659035,  0.66268653, -0.83666003, -0.78679579,  1.29099445,\n",
       "        -1.12127669, -0.80218734, -0.52345457, -0.80218734, -0.94629297,\n",
       "        -0.50917508, -0.8753478 , -0.7685332 , -0.74450367, -0.73557901,\n",
       "         2.26105275],\n",
       "       [-0.94322402,  0.66268653, -0.83666003, -0.78679579, -0.77459667,\n",
       "        -1.12127669, -0.80218734, -0.52345457, -0.80218734, -0.94629297,\n",
       "        -0.50917508, -0.8753478 , -0.7685332 , -0.74450367, -0.73557901,\n",
       "        -0.44227186],\n",
       "       [ 1.41321165,  0.66268653, -0.83666003, -0.78679579, -0.77459667,\n",
       "         0.89184053,  1.2465916 , -0.52345457,  1.2465916 ,  1.05675518,\n",
       "         1.96396101,  1.14240306, -0.7685332 ,  1.34317672,  1.35947326,\n",
       "        -0.44227186],\n",
       "       [-0.01748144,  0.66268653, -0.83666003, -0.78679579, -0.77459667,\n",
       "        -1.12127669, -0.80218734, -0.52345457, -0.80218734,  1.05675518,\n",
       "        -0.50917508, -0.8753478 , -0.7685332 , -0.74450367,  1.35947326,\n",
       "        -0.44227186],\n",
       "       [-0.01748144,  0.66268653, -0.83666003, -0.78679579, -0.77459667,\n",
       "        -1.12127669, -0.80218734, -0.52345457, -0.80218734,  1.05675518,\n",
       "        -0.50917508, -0.8753478 , -0.7685332 , -0.74450367,  1.35947326,\n",
       "        -0.44227186]])"
      ]
     },
     "execution_count": 14,
     "metadata": {},
     "output_type": "execute_result"
    }
   ],
   "source": [
    "x_train[ : 5]"
   ]
  },
  {
   "cell_type": "markdown",
   "metadata": {},
   "source": [
    "USING ARTIFICIAL NEURAL NETWORK (ANN)"
   ]
  },
  {
   "cell_type": "code",
   "execution_count": 15,
   "metadata": {},
   "outputs": [],
   "source": [
    "import tensorflow as tf"
   ]
  },
  {
   "cell_type": "code",
   "execution_count": 16,
   "metadata": {},
   "outputs": [],
   "source": [
    "model = tf.keras.models.Sequential()"
   ]
  },
  {
   "cell_type": "code",
   "execution_count": 17,
   "metadata": {},
   "outputs": [],
   "source": [
    "model.add(tf.keras.layers.Dense(16, input_dim = 16, activation = 'relu'))\n",
    "model.add(tf.keras.layers.Dense(32, activation = 'relu'))\n",
    "model.add(tf.keras.layers.Dense(64, activation = 'relu'))\n",
    "model.add(tf.keras.layers.Dense(1, activation = 'sigmoid'))"
   ]
  },
  {
   "cell_type": "code",
   "execution_count": 18,
   "metadata": {},
   "outputs": [],
   "source": [
    "model.compile(optimizer = 'adam', loss = 'binary_crossentropy', metrics = ['accuracy'])"
   ]
  },
  {
   "cell_type": "code",
   "execution_count": 19,
   "metadata": {
    "scrolled": true
   },
   "outputs": [
    {
     "name": "stdout",
     "output_type": "stream",
     "text": [
      "Epoch 1/100\n",
      "55/55 [==============================] - 1s 908us/step - loss: 0.7088 - accuracy: 0.5256\n",
      "Epoch 2/100\n",
      "55/55 [==============================] - 0s 1ms/step - loss: 0.3858 - accuracy: 0.8653\n",
      "Epoch 3/100\n",
      "55/55 [==============================] - 0s 1ms/step - loss: 0.2677 - accuracy: 0.8758\n",
      "Epoch 4/100\n",
      "55/55 [==============================] - 0s 1ms/step - loss: 0.1814 - accuracy: 0.9384\n",
      "Epoch 5/100\n",
      "55/55 [==============================] - 0s 1ms/step - loss: 0.1547 - accuracy: 0.9496\n",
      "Epoch 6/100\n",
      "55/55 [==============================] - 0s 1ms/step - loss: 0.1089 - accuracy: 0.9640\n",
      "Epoch 7/100\n",
      "55/55 [==============================] - 0s 1ms/step - loss: 0.0921 - accuracy: 0.9763\n",
      "Epoch 8/100\n",
      "55/55 [==============================] - 0s 997us/step - loss: 0.0613 - accuracy: 0.9838\n",
      "Epoch 9/100\n",
      "55/55 [==============================] - 0s 923us/step - loss: 0.0655 - accuracy: 0.9737\n",
      "Epoch 10/100\n",
      "55/55 [==============================] - 0s 960us/step - loss: 0.0474 - accuracy: 0.9802\n",
      "Epoch 11/100\n",
      "55/55 [==============================] - 0s 997us/step - loss: 0.0406 - accuracy: 0.9860\n",
      "Epoch 12/100\n",
      "55/55 [==============================] - 0s 886us/step - loss: 0.0372 - accuracy: 0.9873\n",
      "Epoch 13/100\n",
      "55/55 [==============================] - 0s 859us/step - loss: 0.0238 - accuracy: 0.9929\n",
      "Epoch 14/100\n",
      "55/55 [==============================] - 0s 852us/step - loss: 0.0238 - accuracy: 0.9957\n",
      "Epoch 15/100\n",
      "55/55 [==============================] - 0s 852us/step - loss: 0.0154 - accuracy: 0.9961\n",
      "Epoch 16/100\n",
      "55/55 [==============================] - 0s 852us/step - loss: 0.0187 - accuracy: 0.9940\n",
      "Epoch 17/100\n",
      "55/55 [==============================] - 0s 852us/step - loss: 0.0113 - accuracy: 0.9942\n",
      "Epoch 18/100\n",
      "55/55 [==============================] - 0s 889us/step - loss: 0.0123 - accuracy: 0.9938\n",
      "Epoch 19/100\n",
      "55/55 [==============================] - 0s 850us/step - loss: 0.0192 - accuracy: 0.9934\n",
      "Epoch 20/100\n",
      "55/55 [==============================] - 0s 850us/step - loss: 0.0129 - accuracy: 0.9903\n",
      "Epoch 21/100\n",
      "55/55 [==============================] - 0s 856us/step - loss: 0.0264 - accuracy: 0.9790\n",
      "Epoch 22/100\n",
      "55/55 [==============================] - 0s 868us/step - loss: 0.0099 - accuracy: 0.9968\n",
      "Epoch 23/100\n",
      "55/55 [==============================] - 0s 855us/step - loss: 0.0113 - accuracy: 0.9952\n",
      "Epoch 24/100\n",
      "55/55 [==============================] - 0s 870us/step - loss: 0.0073 - accuracy: 0.9947\n",
      "Epoch 25/100\n",
      "55/55 [==============================] - 0s 868us/step - loss: 0.0113 - accuracy: 0.9951\n",
      "Epoch 26/100\n",
      "55/55 [==============================] - 0s 854us/step - loss: 0.0123 - accuracy: 0.9946\n",
      "Epoch 27/100\n",
      "55/55 [==============================] - 0s 852us/step - loss: 0.0059 - accuracy: 0.9979\n",
      "Epoch 28/100\n",
      "55/55 [==============================] - 0s 857us/step - loss: 0.0101 - accuracy: 0.9936\n",
      "Epoch 29/100\n",
      "55/55 [==============================] - 0s 847us/step - loss: 0.0137 - accuracy: 0.9913\n",
      "Epoch 30/100\n",
      "55/55 [==============================] - 0s 852us/step - loss: 0.0092 - accuracy: 0.9957\n",
      "Epoch 31/100\n",
      "55/55 [==============================] - 0s 852us/step - loss: 0.0077 - accuracy: 0.9964\n",
      "Epoch 32/100\n",
      "55/55 [==============================] - 0s 852us/step - loss: 0.0095 - accuracy: 0.9955\n",
      "Epoch 33/100\n",
      "55/55 [==============================] - 0s 889us/step - loss: 0.0094 - accuracy: 0.9948\n",
      "Epoch 34/100\n",
      "55/55 [==============================] - 0s 905us/step - loss: 0.0201 - accuracy: 0.9875\n",
      "Epoch 35/100\n",
      "55/55 [==============================] - 0s 867us/step - loss: 0.0091 - accuracy: 0.9969\n",
      "Epoch 36/100\n",
      "55/55 [==============================] - 0s 852us/step - loss: 0.0084 - accuracy: 0.9951\n",
      "Epoch 37/100\n",
      "55/55 [==============================] - 0s 870us/step - loss: 0.0071 - accuracy: 0.9968\n",
      "Epoch 38/100\n",
      "55/55 [==============================] - 0s 889us/step - loss: 0.0062 - accuracy: 0.9982\n",
      "Epoch 39/100\n",
      "55/55 [==============================] - 0s 870us/step - loss: 0.0313 - accuracy: 0.9829\n",
      "Epoch 40/100\n",
      "55/55 [==============================] - 0s 850us/step - loss: 0.0154 - accuracy: 0.9946\n",
      "Epoch 41/100\n",
      "55/55 [==============================] - 0s 854us/step - loss: 0.0074 - accuracy: 0.9965\n",
      "Epoch 42/100\n",
      "55/55 [==============================] - 0s 870us/step - loss: 0.0083 - accuracy: 0.9956\n",
      "Epoch 43/100\n",
      "55/55 [==============================] - 0s 871us/step - loss: 0.0128 - accuracy: 0.9902\n",
      "Epoch 44/100\n",
      "55/55 [==============================] - 0s 871us/step - loss: 0.0044 - accuracy: 0.9982\n",
      "Epoch 45/100\n",
      "55/55 [==============================] - 0s 889us/step - loss: 0.0096 - accuracy: 0.9953\n",
      "Epoch 46/100\n",
      "55/55 [==============================] - 0s 870us/step - loss: 0.0098 - accuracy: 0.9917\n",
      "Epoch 47/100\n",
      "55/55 [==============================] - 0s 870us/step - loss: 0.0060 - accuracy: 0.9971\n",
      "Epoch 48/100\n",
      "55/55 [==============================] - 0s 852us/step - loss: 0.0174 - accuracy: 0.9860\n",
      "Epoch 49/100\n",
      "55/55 [==============================] - 0s 870us/step - loss: 0.0097 - accuracy: 0.9930\n",
      "Epoch 50/100\n",
      "55/55 [==============================] - 0s 850us/step - loss: 0.0122 - accuracy: 0.9960\n",
      "Epoch 51/100\n",
      "55/55 [==============================] - 0s 873us/step - loss: 0.0108 - accuracy: 0.9940\n",
      "Epoch 52/100\n",
      "55/55 [==============================] - 0s 887us/step - loss: 0.0088 - accuracy: 0.9930\n",
      "Epoch 53/100\n",
      "55/55 [==============================] - 0s 836us/step - loss: 0.0168 - accuracy: 0.9904\n",
      "Epoch 54/100\n",
      "55/55 [==============================] - 0s 926us/step - loss: 0.0104 - accuracy: 0.9960\n",
      "Epoch 55/100\n",
      "55/55 [==============================] - 0s 865us/step - loss: 0.0124 - accuracy: 0.9886\n",
      "Epoch 56/100\n",
      "55/55 [==============================] - 0s 853us/step - loss: 0.0072 - accuracy: 0.9976\n",
      "Epoch 57/100\n",
      "55/55 [==============================] - 0s 999us/step - loss: 0.0125 - accuracy: 0.9933\n",
      "Epoch 58/100\n",
      "55/55 [==============================] - 0s 871us/step - loss: 0.0097 - accuracy: 0.9953\n",
      "Epoch 59/100\n",
      "55/55 [==============================] - 0s 887us/step - loss: 0.0199 - accuracy: 0.9866\n",
      "Epoch 60/100\n",
      "55/55 [==============================] - 0s 868us/step - loss: 0.0093 - accuracy: 0.9938\n",
      "Epoch 61/100\n",
      "55/55 [==============================] - 0s 856us/step - loss: 0.0103 - accuracy: 0.9911\n",
      "Epoch 62/100\n",
      "55/55 [==============================] - 0s 868us/step - loss: 0.0126 - accuracy: 0.9905\n",
      "Epoch 63/100\n",
      "55/55 [==============================] - 0s 868us/step - loss: 0.0124 - accuracy: 0.9927\n",
      "Epoch 64/100\n",
      "55/55 [==============================] - 0s 968us/step - loss: 0.0056 - accuracy: 0.9970\n",
      "Epoch 65/100\n",
      "55/55 [==============================] - 0s 865us/step - loss: 0.0123 - accuracy: 0.9911\n",
      "Epoch 66/100\n",
      "55/55 [==============================] - 0s 870us/step - loss: 0.0094 - accuracy: 0.9952\n",
      "Epoch 67/100\n",
      "55/55 [==============================] - 0s 870us/step - loss: 0.0044 - accuracy: 0.9975\n",
      "Epoch 68/100\n",
      "55/55 [==============================] - 0s 889us/step - loss: 0.0074 - accuracy: 0.9951\n",
      "Epoch 69/100\n",
      "55/55 [==============================] - 0s 870us/step - loss: 0.0096 - accuracy: 0.9961\n",
      "Epoch 70/100\n",
      "55/55 [==============================] - 0s 870us/step - loss: 0.0085 - accuracy: 0.9908\n",
      "Epoch 71/100\n",
      "55/55 [==============================] - 0s 870us/step - loss: 0.0154 - accuracy: 0.9993\n",
      "Epoch 72/100\n",
      "55/55 [==============================] - 0s 870us/step - loss: 0.0098 - accuracy: 0.9941\n",
      "Epoch 73/100\n",
      "55/55 [==============================] - 0s 871us/step - loss: 0.0110 - accuracy: 0.9929\n",
      "Epoch 74/100\n",
      "55/55 [==============================] - 0s 870us/step - loss: 0.0116 - accuracy: 0.9957\n",
      "Epoch 75/100\n",
      "55/55 [==============================] - 0s 887us/step - loss: 0.0052 - accuracy: 0.9963\n",
      "Epoch 76/100\n",
      "55/55 [==============================] - 0s 1ms/step - loss: 0.0051 - accuracy: 0.9967\n",
      "Epoch 77/100\n",
      "55/55 [==============================] - 0s 905us/step - loss: 0.0046 - accuracy: 0.9974\n",
      "Epoch 78/100\n",
      "55/55 [==============================] - 0s 872us/step - loss: 0.0130 - accuracy: 0.9928\n",
      "Epoch 79/100\n",
      "55/55 [==============================] - 0s 887us/step - loss: 0.0136 - accuracy: 0.9881\n",
      "Epoch 80/100\n",
      "55/55 [==============================] - 0s 891us/step - loss: 0.0145 - accuracy: 0.9893\n",
      "Epoch 81/100\n"
     ]
    },
    {
     "name": "stdout",
     "output_type": "stream",
     "text": [
      "55/55 [==============================] - 0s 889us/step - loss: 0.0066 - accuracy: 0.9975\n",
      "Epoch 82/100\n",
      "55/55 [==============================] - 0s 905us/step - loss: 0.0080 - accuracy: 0.9967\n",
      "Epoch 83/100\n",
      "55/55 [==============================] - 0s 850us/step - loss: 0.0087 - accuracy: 0.9961\n",
      "Epoch 84/100\n",
      "55/55 [==============================] - 0s 899us/step - loss: 0.0104 - accuracy: 0.9933\n",
      "Epoch 85/100\n",
      "55/55 [==============================] - 0s 841us/step - loss: 0.0119 - accuracy: 0.9904\n",
      "Epoch 86/100\n",
      "55/55 [==============================] - 0s 833us/step - loss: 0.0049 - accuracy: 0.9966\n",
      "Epoch 87/100\n",
      "55/55 [==============================] - 0s 833us/step - loss: 0.0097 - accuracy: 0.9960\n",
      "Epoch 88/100\n",
      "55/55 [==============================] - 0s 852us/step - loss: 0.0084 - accuracy: 0.9982\n",
      "Epoch 89/100\n",
      "55/55 [==============================] - 0s 834us/step - loss: 0.0160 - accuracy: 0.9885\n",
      "Epoch 90/100\n",
      "55/55 [==============================] - 0s 886us/step - loss: 0.0084 - accuracy: 0.9937\n",
      "Epoch 91/100\n",
      "55/55 [==============================] - 0s 854us/step - loss: 0.0116 - accuracy: 0.9925\n",
      "Epoch 92/100\n",
      "55/55 [==============================] - 0s 852us/step - loss: 0.0148 - accuracy: 0.9930\n",
      "Epoch 93/100\n",
      "55/55 [==============================] - 0s 889us/step - loss: 0.0083 - accuracy: 0.9948\n",
      "Epoch 94/100\n",
      "55/55 [==============================] - 0s 886us/step - loss: 0.0136 - accuracy: 0.9979\n",
      "Epoch 95/100\n",
      "55/55 [==============================] - 0s 836us/step - loss: 0.0048 - accuracy: 0.9972\n",
      "Epoch 96/100\n",
      "55/55 [==============================] - 0s 1ms/step - loss: 0.0116 - accuracy: 0.9953\n",
      "Epoch 97/100\n",
      "55/55 [==============================] - 0s 868us/step - loss: 0.0121 - accuracy: 0.9974\n",
      "Epoch 98/100\n",
      "55/55 [==============================] - 0s 865us/step - loss: 0.0101 - accuracy: 0.9945\n",
      "Epoch 99/100\n",
      "55/55 [==============================] - 0s 871us/step - loss: 0.0076 - accuracy: 0.9965\n",
      "Epoch 100/100\n",
      "55/55 [==============================] - 0s 870us/step - loss: 0.0054 - accuracy: 0.9971\n"
     ]
    },
    {
     "data": {
      "text/plain": [
       "<tensorflow.python.keras.callbacks.History at 0x17a8b46c040>"
      ]
     },
     "execution_count": 19,
     "metadata": {},
     "output_type": "execute_result"
    }
   ],
   "source": [
    "model.fit(x_train, y_train, batch_size = 10, epochs = 100)"
   ]
  },
  {
   "cell_type": "code",
   "execution_count": 20,
   "metadata": {},
   "outputs": [
    {
     "name": "stdout",
     "output_type": "stream",
     "text": [
      "Model: \"sequential\"\n",
      "_________________________________________________________________\n",
      "Layer (type)                 Output Shape              Param #   \n",
      "=================================================================\n",
      "dense (Dense)                (None, 16)                272       \n",
      "_________________________________________________________________\n",
      "dense_1 (Dense)              (None, 32)                544       \n",
      "_________________________________________________________________\n",
      "dense_2 (Dense)              (None, 64)                2112      \n",
      "_________________________________________________________________\n",
      "dense_3 (Dense)              (None, 1)                 65        \n",
      "=================================================================\n",
      "Total params: 2,993\n",
      "Trainable params: 2,993\n",
      "Non-trainable params: 0\n",
      "_________________________________________________________________\n"
     ]
    }
   ],
   "source": [
    "model.summary()"
   ]
  },
  {
   "cell_type": "code",
   "execution_count": 21,
   "metadata": {
    "scrolled": false
   },
   "outputs": [],
   "source": [
    "loss, accuracy = model.evaluate(x_test, y_test, verbose = 0)"
   ]
  },
  {
   "cell_type": "code",
   "execution_count": 22,
   "metadata": {},
   "outputs": [
    {
     "name": "stdout",
     "output_type": "stream",
     "text": [
      "Model accuracy: 96.88 %\n"
     ]
    }
   ],
   "source": [
    "print(\"Model accuracy:\", round(accuracy * 100, 2), \"%\")"
   ]
  },
  {
   "cell_type": "code",
   "execution_count": 23,
   "metadata": {},
   "outputs": [],
   "source": [
    "y_pred = model.predict(x_test)\n",
    "y_pred = y_pred >= 0.5"
   ]
  },
  {
   "cell_type": "code",
   "execution_count": 24,
   "metadata": {
    "scrolled": true
   },
   "outputs": [
    {
     "name": "stdout",
     "output_type": "stream",
     "text": [
      "Accuracy = 0.96875\n"
     ]
    }
   ],
   "source": [
    "from sklearn.metrics import accuracy_score\n",
    "print(\"Accuracy =\", accuracy_score(y_test, y_pred))"
   ]
  },
  {
   "cell_type": "markdown",
   "metadata": {},
   "source": [
    "SAVING THE TRAINED MODEL"
   ]
  },
  {
   "cell_type": "code",
   "execution_count": 25,
   "metadata": {},
   "outputs": [],
   "source": [
    "import os.path"
   ]
  },
  {
   "cell_type": "code",
   "execution_count": 26,
   "metadata": {},
   "outputs": [],
   "source": [
    "if os.path.isfile('../model/project_model.h5') is False:\n",
    "    model.save('../model/project_model.h5')"
   ]
  },
  {
   "cell_type": "code",
   "execution_count": null,
   "metadata": {},
   "outputs": [],
   "source": []
  }
 ],
 "metadata": {
  "kernelspec": {
   "display_name": "Python 3",
   "language": "python",
   "name": "python3"
  },
  "language_info": {
   "codemirror_mode": {
    "name": "ipython",
    "version": 3
   },
   "file_extension": ".py",
   "mimetype": "text/x-python",
   "name": "python",
   "nbconvert_exporter": "python",
   "pygments_lexer": "ipython3",
   "version": "3.8.8"
  }
 },
 "nbformat": 4,
 "nbformat_minor": 4
}
