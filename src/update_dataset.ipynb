{
 "cells": [
  {
   "cell_type": "markdown",
   "id": "b191011a",
   "metadata": {},
   "source": [
    "# CREATING THE FINAL DATASET"
   ]
  },
  {
   "cell_type": "markdown",
   "id": "07861c3d",
   "metadata": {},
   "source": [
    "IMPORTING THE RAW DATASET"
   ]
  },
  {
   "cell_type": "code",
   "execution_count": 1,
   "id": "60168dd1",
   "metadata": {},
   "outputs": [],
   "source": [
    "import pandas as pd"
   ]
  },
  {
   "cell_type": "code",
   "execution_count": 2,
   "id": "d0611e07",
   "metadata": {},
   "outputs": [],
   "source": [
    "dataset = pd.read_csv('../dataset/project_dataset.csv', index_col = 0)"
   ]
  },
  {
   "cell_type": "code",
   "execution_count": 3,
   "id": "9c9993fa",
   "metadata": {},
   "outputs": [
    {
     "data": {
      "text/html": [
       "<div>\n",
       "<style scoped>\n",
       "    .dataframe tbody tr th:only-of-type {\n",
       "        vertical-align: middle;\n",
       "    }\n",
       "\n",
       "    .dataframe tbody tr th {\n",
       "        vertical-align: top;\n",
       "    }\n",
       "\n",
       "    .dataframe thead th {\n",
       "        text-align: right;\n",
       "    }\n",
       "</style>\n",
       "<table border=\"1\" class=\"dataframe\">\n",
       "  <thead>\n",
       "    <tr style=\"text-align: right;\">\n",
       "      <th></th>\n",
       "      <th>Age</th>\n",
       "      <th>Gender</th>\n",
       "      <th>Polyuria</th>\n",
       "      <th>Polydipsia</th>\n",
       "      <th>Sudden weight loss</th>\n",
       "      <th>Weakness</th>\n",
       "      <th>Polyphagia</th>\n",
       "      <th>Genital thrush</th>\n",
       "      <th>Visual blurring</th>\n",
       "      <th>Itching</th>\n",
       "      <th>Irritability</th>\n",
       "      <th>Delayed healing</th>\n",
       "      <th>Partial paresis</th>\n",
       "      <th>Muscle stiffness</th>\n",
       "      <th>Alopecia</th>\n",
       "      <th>Obesity</th>\n",
       "      <th>Class</th>\n",
       "    </tr>\n",
       "  </thead>\n",
       "  <tbody>\n",
       "    <tr>\n",
       "      <th>0</th>\n",
       "      <td>40</td>\n",
       "      <td>Male</td>\n",
       "      <td>No</td>\n",
       "      <td>Yes</td>\n",
       "      <td>No</td>\n",
       "      <td>Yes</td>\n",
       "      <td>No</td>\n",
       "      <td>No</td>\n",
       "      <td>No</td>\n",
       "      <td>Yes</td>\n",
       "      <td>No</td>\n",
       "      <td>Yes</td>\n",
       "      <td>No</td>\n",
       "      <td>Yes</td>\n",
       "      <td>Yes</td>\n",
       "      <td>Yes</td>\n",
       "      <td>Positive</td>\n",
       "    </tr>\n",
       "    <tr>\n",
       "      <th>1</th>\n",
       "      <td>58</td>\n",
       "      <td>Male</td>\n",
       "      <td>No</td>\n",
       "      <td>No</td>\n",
       "      <td>No</td>\n",
       "      <td>Yes</td>\n",
       "      <td>No</td>\n",
       "      <td>No</td>\n",
       "      <td>Yes</td>\n",
       "      <td>No</td>\n",
       "      <td>No</td>\n",
       "      <td>No</td>\n",
       "      <td>Yes</td>\n",
       "      <td>No</td>\n",
       "      <td>Yes</td>\n",
       "      <td>No</td>\n",
       "      <td>Positive</td>\n",
       "    </tr>\n",
       "    <tr>\n",
       "      <th>2</th>\n",
       "      <td>41</td>\n",
       "      <td>Male</td>\n",
       "      <td>Yes</td>\n",
       "      <td>No</td>\n",
       "      <td>No</td>\n",
       "      <td>Yes</td>\n",
       "      <td>Yes</td>\n",
       "      <td>No</td>\n",
       "      <td>No</td>\n",
       "      <td>Yes</td>\n",
       "      <td>No</td>\n",
       "      <td>Yes</td>\n",
       "      <td>No</td>\n",
       "      <td>Yes</td>\n",
       "      <td>Yes</td>\n",
       "      <td>No</td>\n",
       "      <td>Positive</td>\n",
       "    </tr>\n",
       "    <tr>\n",
       "      <th>3</th>\n",
       "      <td>45</td>\n",
       "      <td>Male</td>\n",
       "      <td>No</td>\n",
       "      <td>No</td>\n",
       "      <td>Yes</td>\n",
       "      <td>Yes</td>\n",
       "      <td>Yes</td>\n",
       "      <td>Yes</td>\n",
       "      <td>No</td>\n",
       "      <td>Yes</td>\n",
       "      <td>No</td>\n",
       "      <td>Yes</td>\n",
       "      <td>No</td>\n",
       "      <td>No</td>\n",
       "      <td>No</td>\n",
       "      <td>No</td>\n",
       "      <td>Positive</td>\n",
       "    </tr>\n",
       "    <tr>\n",
       "      <th>4</th>\n",
       "      <td>60</td>\n",
       "      <td>Male</td>\n",
       "      <td>Yes</td>\n",
       "      <td>Yes</td>\n",
       "      <td>Yes</td>\n",
       "      <td>Yes</td>\n",
       "      <td>Yes</td>\n",
       "      <td>No</td>\n",
       "      <td>Yes</td>\n",
       "      <td>Yes</td>\n",
       "      <td>Yes</td>\n",
       "      <td>Yes</td>\n",
       "      <td>Yes</td>\n",
       "      <td>Yes</td>\n",
       "      <td>Yes</td>\n",
       "      <td>Yes</td>\n",
       "      <td>Positive</td>\n",
       "    </tr>\n",
       "  </tbody>\n",
       "</table>\n",
       "</div>"
      ],
      "text/plain": [
       "   Age Gender Polyuria Polydipsia Sudden weight loss Weakness Polyphagia  \\\n",
       "0   40   Male       No        Yes                 No      Yes         No   \n",
       "1   58   Male       No         No                 No      Yes         No   \n",
       "2   41   Male      Yes         No                 No      Yes        Yes   \n",
       "3   45   Male       No         No                Yes      Yes        Yes   \n",
       "4   60   Male      Yes        Yes                Yes      Yes        Yes   \n",
       "\n",
       "  Genital thrush Visual blurring Itching Irritability Delayed healing  \\\n",
       "0             No              No     Yes           No             Yes   \n",
       "1             No             Yes      No           No              No   \n",
       "2             No              No     Yes           No             Yes   \n",
       "3            Yes              No     Yes           No             Yes   \n",
       "4             No             Yes     Yes          Yes             Yes   \n",
       "\n",
       "  Partial paresis Muscle stiffness Alopecia Obesity     Class  \n",
       "0              No              Yes      Yes     Yes  Positive  \n",
       "1             Yes               No      Yes      No  Positive  \n",
       "2              No              Yes      Yes      No  Positive  \n",
       "3              No               No       No      No  Positive  \n",
       "4             Yes              Yes      Yes     Yes  Positive  "
      ]
     },
     "execution_count": 3,
     "metadata": {},
     "output_type": "execute_result"
    }
   ],
   "source": [
    "dataset.head()"
   ]
  },
  {
   "cell_type": "markdown",
   "id": "fc618177",
   "metadata": {},
   "source": [
    "ANALYSING THE DATASET"
   ]
  },
  {
   "cell_type": "code",
   "execution_count": 4,
   "id": "a2a31a5a",
   "metadata": {},
   "outputs": [
    {
     "data": {
      "text/plain": [
       "(640, 17)"
      ]
     },
     "execution_count": 4,
     "metadata": {},
     "output_type": "execute_result"
    }
   ],
   "source": [
    "dataset.shape"
   ]
  },
  {
   "cell_type": "code",
   "execution_count": 5,
   "id": "e6920fb8",
   "metadata": {},
   "outputs": [
    {
     "name": "stdout",
     "output_type": "stream",
     "text": [
      "<class 'pandas.core.frame.DataFrame'>\n",
      "Int64Index: 640 entries, 0 to 639\n",
      "Data columns (total 17 columns):\n",
      " #   Column              Non-Null Count  Dtype \n",
      "---  ------              --------------  ----- \n",
      " 0   Age                 640 non-null    int64 \n",
      " 1   Gender              640 non-null    object\n",
      " 2   Polyuria            640 non-null    object\n",
      " 3   Polydipsia          640 non-null    object\n",
      " 4   Sudden weight loss  640 non-null    object\n",
      " 5   Weakness            640 non-null    object\n",
      " 6   Polyphagia          640 non-null    object\n",
      " 7   Genital thrush      640 non-null    object\n",
      " 8   Visual blurring     640 non-null    object\n",
      " 9   Itching             640 non-null    object\n",
      " 10  Irritability        640 non-null    object\n",
      " 11  Delayed healing     640 non-null    object\n",
      " 12  Partial paresis     640 non-null    object\n",
      " 13  Muscle stiffness    640 non-null    object\n",
      " 14  Alopecia            640 non-null    object\n",
      " 15  Obesity             640 non-null    object\n",
      " 16  Class               640 non-null    object\n",
      "dtypes: int64(1), object(16)\n",
      "memory usage: 90.0+ KB\n"
     ]
    }
   ],
   "source": [
    "dataset.info()"
   ]
  },
  {
   "cell_type": "code",
   "execution_count": 6,
   "id": "0f540c3d",
   "metadata": {},
   "outputs": [
    {
     "data": {
      "text/plain": [
       "Age                   50\n",
       "Gender                 2\n",
       "Polyuria               2\n",
       "Polydipsia             2\n",
       "Sudden weight loss     2\n",
       "Weakness               2\n",
       "Polyphagia             2\n",
       "Genital thrush         2\n",
       "Visual blurring        2\n",
       "Itching                2\n",
       "Irritability           2\n",
       "Delayed healing        2\n",
       "Partial paresis        2\n",
       "Muscle stiffness       2\n",
       "Alopecia               2\n",
       "Obesity                2\n",
       "Class                  2\n",
       "dtype: int64"
      ]
     },
     "execution_count": 6,
     "metadata": {},
     "output_type": "execute_result"
    }
   ],
   "source": [
    "dataset.nunique()"
   ]
  },
  {
   "cell_type": "code",
   "execution_count": 7,
   "id": "e51044e2",
   "metadata": {},
   "outputs": [],
   "source": [
    "class_1 = dataset[dataset['Class'] == 'Positive']\n",
    "class_0 = dataset[dataset['Class'] == 'Negative']"
   ]
  },
  {
   "cell_type": "code",
   "execution_count": 8,
   "id": "1da809f7",
   "metadata": {},
   "outputs": [
    {
     "name": "stdout",
     "output_type": "stream",
     "text": [
      "Number of positive outcomes : 320\n",
      "Number of negative outcomes : 320\n"
     ]
    }
   ],
   "source": [
    "print(\"Number of positive outcomes :\", len(class_1))\n",
    "print(\"Number of negative outcomes :\", len(class_0))"
   ]
  },
  {
   "cell_type": "code",
   "execution_count": 9,
   "id": "401bf12c",
   "metadata": {},
   "outputs": [],
   "source": [
    "import seaborn as sns"
   ]
  },
  {
   "cell_type": "code",
   "execution_count": 10,
   "id": "3a85fbe4",
   "metadata": {},
   "outputs": [
    {
     "data": {
      "text/plain": [
       "<AxesSubplot:xlabel='Class', ylabel='count'>"
      ]
     },
     "execution_count": 10,
     "metadata": {},
     "output_type": "execute_result"
    },
    {
     "data": {
      "image/png": "[encoded data removed]",
      "text/plain": [
       "<Figure size 432x288 with 1 Axes>"
      ]
     },
     "metadata": {
      "needs_background": "light"
     },
     "output_type": "display_data"
    }
   ],
   "source": [
    "sns.countplot(x = 'Class', data = dataset)"
   ]
  },
  {
   "cell_type": "markdown",
   "id": "29d203bd",
   "metadata": {},
   "source": [
    "USING LABELENCODER"
   ]
  },
  {
   "cell_type": "code",
   "execution_count": 11,
   "id": "d067d3aa",
   "metadata": {},
   "outputs": [],
   "source": [
    "from sklearn.preprocessing import LabelEncoder\n",
    "labelencoder = LabelEncoder()"
   ]
  },
  {
   "cell_type": "code",
   "execution_count": 12,
   "id": "5b4dde04",
   "metadata": {},
   "outputs": [],
   "source": [
    "dataset['Gender'] = labelencoder.fit_transform(dataset['Gender'])\n",
    "dataset['Polyuria'] = labelencoder.fit_transform(dataset['Polyuria'])\n",
    "dataset['Polydipsia'] = labelencoder.fit_transform(dataset['Polydipsia'])\n",
    "dataset['Sudden weight loss'] = labelencoder.fit_transform(dataset['Sudden weight loss'])\n",
    "dataset['Weakness'] = labelencoder.fit_transform(dataset['Weakness'])\n",
    "dataset['Polyphagia'] = labelencoder.fit_transform(dataset['Polyphagia'])\n",
    "dataset['Genital thrush'] = labelencoder.fit_transform(dataset['Genital thrush'])\n",
    "dataset['Visual blurring'] = labelencoder.fit_transform(dataset['Visual blurring'])\n",
    "dataset['Itching'] = labelencoder.fit_transform(dataset['Itching'])\n",
    "dataset['Irritability'] = labelencoder.fit_transform(dataset['Irritability'])\n",
    "dataset['Delayed healing'] = labelencoder.fit_transform(dataset['Delayed healing'])\n",
    "dataset['Partial paresis'] = labelencoder.fit_transform(dataset['Partial paresis'])\n",
    "dataset['Muscle stiffness'] = labelencoder.fit_transform(dataset['Muscle stiffness'])\n",
    "dataset['Alopecia'] = labelencoder.fit_transform(dataset['Alopecia'])\n",
    "dataset['Obesity'] = labelencoder.fit_transform(dataset['Obesity'])\n",
    "dataset['Class'] = labelencoder.fit_transform(dataset['Class'])"
   ]
  },
  {
   "cell_type": "markdown",
   "id": "0ae65e20",
   "metadata": {},
   "source": [
    "ANALYSING THE UPDATED DATASET"
   ]
  },
  {
   "cell_type": "code",
   "execution_count": 13,
   "id": "2392494c",
   "metadata": {},
   "outputs": [
    {
     "data": {
      "text/html": [
       "<div>\n",
       "<style scoped>\n",
       "    .dataframe tbody tr th:only-of-type {\n",
       "        vertical-align: middle;\n",
       "    }\n",
       "\n",
       "    .dataframe tbody tr th {\n",
       "        vertical-align: top;\n",
       "    }\n",
       "\n",
       "    .dataframe thead th {\n",
       "        text-align: right;\n",
       "    }\n",
       "</style>\n",
       "<table border=\"1\" class=\"dataframe\">\n",
       "  <thead>\n",
       "    <tr style=\"text-align: right;\">\n",
       "      <th></th>\n",
       "      <th>Age</th>\n",
       "      <th>Gender</th>\n",
       "      <th>Polyuria</th>\n",
       "      <th>Polydipsia</th>\n",
       "      <th>Sudden weight loss</th>\n",
       "      <th>Weakness</th>\n",
       "      <th>Polyphagia</th>\n",
       "      <th>Genital thrush</th>\n",
       "      <th>Visual blurring</th>\n",
       "      <th>Itching</th>\n",
       "      <th>Irritability</th>\n",
       "      <th>Delayed healing</th>\n",
       "      <th>Partial paresis</th>\n",
       "      <th>Muscle stiffness</th>\n",
       "      <th>Alopecia</th>\n",
       "      <th>Obesity</th>\n",
       "      <th>Class</th>\n",
       "    </tr>\n",
       "  </thead>\n",
       "  <tbody>\n",
       "    <tr>\n",
       "      <th>0</th>\n",
       "      <td>40</td>\n",
       "      <td>1</td>\n",
       "      <td>0</td>\n",
       "      <td>1</td>\n",
       "      <td>0</td>\n",
       "      <td>1</td>\n",
       "      <td>0</td>\n",
       "      <td>0</td>\n",
       "      <td>0</td>\n",
       "      <td>1</td>\n",
       "      <td>0</td>\n",
       "      <td>1</td>\n",
       "      <td>0</td>\n",
       "      <td>1</td>\n",
       "      <td>1</td>\n",
       "      <td>1</td>\n",
       "      <td>1</td>\n",
       "    </tr>\n",
       "    <tr>\n",
       "      <th>1</th>\n",
       "      <td>58</td>\n",
       "      <td>1</td>\n",
       "      <td>0</td>\n",
       "      <td>0</td>\n",
       "      <td>0</td>\n",
       "      <td>1</td>\n",
       "      <td>0</td>\n",
       "      <td>0</td>\n",
       "      <td>1</td>\n",
       "      <td>0</td>\n",
       "      <td>0</td>\n",
       "      <td>0</td>\n",
       "      <td>1</td>\n",
       "      <td>0</td>\n",
       "      <td>1</td>\n",
       "      <td>0</td>\n",
       "      <td>1</td>\n",
       "    </tr>\n",
       "    <tr>\n",
       "      <th>2</th>\n",
       "      <td>41</td>\n",
       "      <td>1</td>\n",
       "      <td>1</td>\n",
       "      <td>0</td>\n",
       "      <td>0</td>\n",
       "      <td>1</td>\n",
       "      <td>1</td>\n",
       "      <td>0</td>\n",
       "      <td>0</td>\n",
       "      <td>1</td>\n",
       "      <td>0</td>\n",
       "      <td>1</td>\n",
       "      <td>0</td>\n",
       "      <td>1</td>\n",
       "      <td>1</td>\n",
       "      <td>0</td>\n",
       "      <td>1</td>\n",
       "    </tr>\n",
       "    <tr>\n",
       "      <th>3</th>\n",
       "      <td>45</td>\n",
       "      <td>1</td>\n",
       "      <td>0</td>\n",
       "      <td>0</td>\n",
       "      <td>1</td>\n",
       "      <td>1</td>\n",
       "      <td>1</td>\n",
       "      <td>1</td>\n",
       "      <td>0</td>\n",
       "      <td>1</td>\n",
       "      <td>0</td>\n",
       "      <td>1</td>\n",
       "      <td>0</td>\n",
       "      <td>0</td>\n",
       "      <td>0</td>\n",
       "      <td>0</td>\n",
       "      <td>1</td>\n",
       "    </tr>\n",
       "    <tr>\n",
       "      <th>4</th>\n",
       "      <td>60</td>\n",
       "      <td>1</td>\n",
       "      <td>1</td>\n",
       "      <td>1</td>\n",
       "      <td>1</td>\n",
       "      <td>1</td>\n",
       "      <td>1</td>\n",
       "      <td>0</td>\n",
       "      <td>1</td>\n",
       "      <td>1</td>\n",
       "      <td>1</td>\n",
       "      <td>1</td>\n",
       "      <td>1</td>\n",
       "      <td>1</td>\n",
       "      <td>1</td>\n",
       "      <td>1</td>\n",
       "      <td>1</td>\n",
       "    </tr>\n",
       "  </tbody>\n",
       "</table>\n",
       "</div>"
      ],
      "text/plain": [
       "   Age  Gender  Polyuria  Polydipsia  Sudden weight loss  Weakness  \\\n",
       "0   40       1         0           1                   0         1   \n",
       "1   58       1         0           0                   0         1   \n",
       "2   41       1         1           0                   0         1   \n",
       "3   45       1         0           0                   1         1   \n",
       "4   60       1         1           1                   1         1   \n",
       "\n",
       "   Polyphagia  Genital thrush  Visual blurring  Itching  Irritability  \\\n",
       "0           0               0                0        1             0   \n",
       "1           0               0                1        0             0   \n",
       "2           1               0                0        1             0   \n",
       "3           1               1                0        1             0   \n",
       "4           1               0                1        1             1   \n",
       "\n",
       "   Delayed healing  Partial paresis  Muscle stiffness  Alopecia  Obesity  \\\n",
       "0                1                0                 1         1        1   \n",
       "1                0                1                 0         1        0   \n",
       "2                1                0                 1         1        0   \n",
       "3                1                0                 0         0        0   \n",
       "4                1                1                 1         1        1   \n",
       "\n",
       "   Class  \n",
       "0      1  \n",
       "1      1  \n",
       "2      1  \n",
       "3      1  \n",
       "4      1  "
      ]
     },
     "execution_count": 13,
     "metadata": {},
     "output_type": "execute_result"
    }
   ],
   "source": [
    "dataset.head()"
   ]
  },
  {
   "cell_type": "code",
   "execution_count": 14,
   "id": "c555e055",
   "metadata": {},
   "outputs": [
    {
     "name": "stdout",
     "output_type": "stream",
     "text": [
      "<class 'pandas.core.frame.DataFrame'>\n",
      "Int64Index: 640 entries, 0 to 639\n",
      "Data columns (total 17 columns):\n",
      " #   Column              Non-Null Count  Dtype\n",
      "---  ------              --------------  -----\n",
      " 0   Age                 640 non-null    int64\n",
      " 1   Gender              640 non-null    int32\n",
      " 2   Polyuria            640 non-null    int32\n",
      " 3   Polydipsia          640 non-null    int32\n",
      " 4   Sudden weight loss  640 non-null    int32\n",
      " 5   Weakness            640 non-null    int32\n",
      " 6   Polyphagia          640 non-null    int32\n",
      " 7   Genital thrush      640 non-null    int32\n",
      " 8   Visual blurring     640 non-null    int32\n",
      " 9   Itching             640 non-null    int32\n",
      " 10  Irritability        640 non-null    int32\n",
      " 11  Delayed healing     640 non-null    int32\n",
      " 12  Partial paresis     640 non-null    int32\n",
      " 13  Muscle stiffness    640 non-null    int32\n",
      " 14  Alopecia            640 non-null    int32\n",
      " 15  Obesity             640 non-null    int32\n",
      " 16  Class               640 non-null    int32\n",
      "dtypes: int32(16), int64(1)\n",
      "memory usage: 66.2 KB\n"
     ]
    }
   ],
   "source": [
    "dataset.info()"
   ]
  },
  {
   "cell_type": "markdown",
   "id": "cba37dcf",
   "metadata": {},
   "source": [
    "SAVING THE FINAL DATASET"
   ]
  },
  {
   "cell_type": "code",
   "execution_count": 15,
   "id": "71b018e6",
   "metadata": {},
   "outputs": [],
   "source": [
    "import os.path"
   ]
  },
  {
   "cell_type": "code",
   "execution_count": 16,
   "id": "40ce4ff8",
   "metadata": {},
   "outputs": [],
   "source": [
    "if os.path.isfile('../dataset/train_dataset.csv') is False:\n",
    "    dataset.to_csv('../dataset/train_dataset.csv')"
   ]
  },
  {
   "cell_type": "code",
   "execution_count": null,
   "id": "b32bb776",
   "metadata": {},
   "outputs": [],
   "source": []
  }
 ],
 "metadata": {
  "kernelspec": {
   "display_name": "Python 3",
   "language": "python",
   "name": "python3"
  },
  "language_info": {
   "codemirror_mode": {
    "name": "ipython",
    "version": 3
   },
   "file_extension": ".py",
   "mimetype": "text/x-python",
   "name": "python",
   "nbconvert_exporter": "python",
   "pygments_lexer": "ipython3",
   "version": "3.8.8"
  }
 },
 "nbformat": 4,
 "nbformat_minor": 5
}
